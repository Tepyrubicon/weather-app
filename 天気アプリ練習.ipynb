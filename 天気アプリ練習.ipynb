{
 "cells": [
  {
   "cell_type": "code",
   "execution_count": 2,
   "metadata": {},
   "outputs": [
    {
     "name": "stdout",
     "output_type": "stream",
     "text": [
      "天気アプリ\n",
      "東京の天気を表示しています。\n",
      "東京のcitycodeは130010です。\n",
      "現在の降水確率 : 20%\n",
      "    T00_06 T06_12 T12_18 T18_24\n",
      "今日     --%    20%    20%    20%\n",
      "明日     10%    20%    30%    50%\n",
      "明後日    80%    80%    80%    80%\n"
     ]
    }
   ],
   "source": [
    "import streamlit as st # フロントエンドを扱うstreamlitの機能をインポート\n",
    "import requests # リクエストするための機能をインポート\n",
    "from datetime import datetime # 現在時刻などの時間を扱う機能をインポート\n",
    "import pandas as pd # データフレームを扱う機能をインポート\n",
    "\n",
    "print(\"天気アプリ\")\n",
    "print(\"東京の天気を表示しています。\") \n",
    "print(\"東京のcitycodeは130010です。\") \n",
    "\n",
    "url = \"https://weather.tsukumijima.net/api/forecast/city/\" + \"130010\" # APIにリクエストするURLを作成　東京のcityコード\n",
    "\n",
    "response = requests.get(\"https://weather.tsukumijima.net/api/forecast/city/130010\") # 作成したリクエスト用URLでアクセスして、responseに代入\n",
    "\n",
    "weather_json = response.json() # responseにjson形式の天気のデータが返ってくるので、response.json()をweather_jsonに代入\n",
    "now_hour = datetime.now().hour # 現在の天気情報取得のために、現在時刻の時間をnow_hourに代入\n",
    "\n",
    "# 今日の天気はweather_json['forecasts'][0]['chanceOfRain']\n",
    "# 明日の天気はweather_json['forecasts'][1]['chanceOfRain']\n",
    "# 明後日の天気はweather_json['forecasts'][2]['chanceOfRain']\n",
    "# にそれぞれ格納されている\n",
    "\n",
    "# 天気の情報を0-6時、6-12時、12-18時、18-24時の4つに分けて降水確率を今日、明日、明後日の３日間の天気を返すため、場合分けする。\n",
    "if 0 <= now_hour and now_hour < 6:\n",
    "    weather_now = weather_json['forecasts'][0]['chanceOfRain']['T00_06'] # 今日の0-6時の降水確率を取得し、weather_nowに代入\n",
    "elif 6 <= now_hour and now_hour < 12:\n",
    "    weather_now = weather_json['forecasts'][0]['chanceOfRain']['T06_12'] # 今日の6-12時の降水確率を取得し、weather_nowに代入\n",
    "elif 12 <= now_hour and now_hour < 18:\n",
    "    weather_now = weather_json['forecasts'][0]['chanceOfRain']['T12_18'] # 今日の12-18時の降水確率を取得し、weather_nowに代入\n",
    "else:\n",
    "    weather_now = weather_json['forecasts'][0]['chanceOfRain']['T18_24'] # 今日の18-24時の降水確率を取得し、weather_nowに代入\n",
    "\n",
    "# 現在時刻の降水確率をweather_now_textに代入\n",
    "weather_now_text = \"現在の降水確率 : \" + weather_now\n",
    "print(weather_now_text) # 現在時刻の降水確率を表示\n",
    "\n",
    "# 今日、明日、明後日の降水確率をDadaFrameに代入\n",
    "df1 = pd.DataFrame(weather_json['forecasts'][0]['chanceOfRain'],index=[\"今日\"]) # index名を今日という文字列に設定\n",
    "df2 = pd.DataFrame(weather_json['forecasts'][1]['chanceOfRain'],index=[\"明日\"]) # index名を明日という文字列に設定\n",
    "df3 = pd.DataFrame(weather_json['forecasts'][2]['chanceOfRain'],index=[\"明後日\"]) # index名を明後日という文字列に設定\n",
    "\n",
    "df = pd.concat([df1,df2,df3]) # 今日、明日、明後日の降水確率を結合して一覧にしてdfに代入\n",
    "print(df) # 一覧にした降水確率を表示\n"
   ]
  },
  {
   "cell_type": "code",
   "execution_count": 3,
   "metadata": {},
   "outputs": [
    {
     "name": "stdout",
     "output_type": "stream",
     "text": [
      "--今日の降水確率--\n",
      "0-6時\n",
      "--%\n",
      "6-12時\n",
      "20%\n",
      "12-18時\n",
      "20%\n",
      "18-24時\n",
      "20%\n",
      "--明日の降水確率--\n",
      "0-6時\n",
      "10%\n",
      "6-12時\n",
      "20%\n",
      "12-18時\n",
      "30%\n",
      "18-24時\n",
      "50%\n",
      "--明後日の降水確率--\n",
      "0-6時\n",
      "80%\n",
      "6-12時\n",
      "80%\n",
      "12-18時\n",
      "80%\n",
      "18-24時\n",
      "80%\n"
     ]
    }
   ],
   "source": [
    "# 色々な情報が入ってくるため、必要な情報をprintして挙動を確認してみる\n",
    "# 今日の天気\n",
    "print(\"--今日の降水確率--\")\n",
    "print(\"0-6時\")\n",
    "print(weather_json['forecasts'][0]['chanceOfRain']['T00_06'])\n",
    "print(\"6-12時\")\n",
    "print(weather_json['forecasts'][0]['chanceOfRain']['T06_12'])\n",
    "print(\"12-18時\")\n",
    "print(weather_json['forecasts'][0]['chanceOfRain']['T12_18'])\n",
    "print(\"18-24時\")\n",
    "print(weather_json['forecasts'][0]['chanceOfRain']['T18_24'])\n",
    "\n",
    "# 明日の天気\n",
    "print(\"--明日の降水確率--\")\n",
    "print(\"0-6時\")\n",
    "print(weather_json['forecasts'][1]['chanceOfRain']['T00_06'])\n",
    "print(\"6-12時\")\n",
    "print(weather_json['forecasts'][1]['chanceOfRain']['T06_12'])\n",
    "print(\"12-18時\")\n",
    "print(weather_json['forecasts'][1]['chanceOfRain']['T12_18'])\n",
    "print(\"18-24時\")\n",
    "print(weather_json['forecasts'][1]['chanceOfRain']['T18_24'])\n",
    "\n",
    "# あさっての天気\n",
    "print(\"--明後日の降水確率--\")\n",
    "print(\"0-6時\")\n",
    "print(weather_json['forecasts'][2]['chanceOfRain']['T00_06'])\n",
    "print(\"6-12時\")\n",
    "print(weather_json['forecasts'][2]['chanceOfRain']['T06_12'])\n",
    "print(\"12-18時\")\n",
    "print(weather_json['forecasts'][2]['chanceOfRain']['T12_18'])\n",
    "print(\"18-24時\")\n",
    "print(weather_json['forecasts'][2]['chanceOfRain']['T18_24'])"
   ]
  },
  {
   "cell_type": "code",
   "execution_count": 4,
   "metadata": {},
   "outputs": [
    {
     "data": {
      "text/plain": [
       "9"
      ]
     },
     "execution_count": 4,
     "metadata": {},
     "output_type": "execute_result"
    }
   ],
   "source": [
    "datetime.now().hour # 現在時刻の時間を取得"
   ]
  },
  {
   "cell_type": "code",
   "execution_count": 5,
   "metadata": {},
   "outputs": [
    {
     "name": "stdout",
     "output_type": "stream",
     "text": [
      "現在の降水確率 : 20%\n"
     ]
    }
   ],
   "source": [
    "# 天気の情報を0-6時、6-12時、12-18時、18-24時の4つに分けて降水確率を今日、明日、明後日の３日間の天気を返すため、場合分けする。\n",
    "now_hour = datetime.now().hour  # 現在時刻の時間を取得し、これを条件にする\n",
    "\n",
    "if 0 <= now_hour and now_hour < 6:\n",
    "    weather_now = weather_json['forecasts'][0]['chanceOfRain']['T00_06'] # 今日の0-6時の降水確率を取得し、weather_nowに代入\n",
    "elif 6 <= now_hour and now_hour < 12:\n",
    "    weather_now = weather_json['forecasts'][0]['chanceOfRain']['T06_12'] # 今日の6-12時の降水確率を取得し、weather_nowに代入\n",
    "elif 12 <= now_hour and now_hour < 18:\n",
    "    weather_now = weather_json['forecasts'][0]['chanceOfRain']['T12_18'] # 今日の12-18時の降水確率を取得し、weather_nowに代入\n",
    "else:\n",
    "    weather_now = weather_json['forecasts'][0]['chanceOfRain']['T18_24'] # 今日の18-24時の降水確率を取得し、weather_nowに代入\n",
    "\n",
    "# 現在時刻の降水確率をweather_now_textに代入\n",
    "weather_now_text = \"現在の降水確率 : \" + weather_now\n",
    "print(weather_now_text) # 現在時刻の降水確率を表示"
   ]
  },
  {
   "cell_type": "code",
   "execution_count": 6,
   "metadata": {},
   "outputs": [],
   "source": [
    "# 今日、明日、明後日の降水確率をDadaFrameに代入\n",
    "# df1, df2, df3としてみて、一つ一つ表示してみる\n",
    "df1 = pd.DataFrame(weather_json['forecasts'][0]['chanceOfRain'],index=[\"今日\"]) # index名を今日という文字列に設定\n",
    "df2 = pd.DataFrame(weather_json['forecasts'][1]['chanceOfRain'],index=[\"明日\"]) # index名を明日という文字列に設定\n",
    "df3 = pd.DataFrame(weather_json['forecasts'][2]['chanceOfRain'],index=[\"明後日\"]) # index名を明後日という文字列に設定"
   ]
  },
  {
   "cell_type": "code",
   "execution_count": 7,
   "metadata": {},
   "outputs": [
    {
     "name": "stdout",
     "output_type": "stream",
     "text": [
      "--今日の降水確率--\n"
     ]
    },
    {
     "data": {
      "text/html": [
       "<div>\n",
       "<style scoped>\n",
       "    .dataframe tbody tr th:only-of-type {\n",
       "        vertical-align: middle;\n",
       "    }\n",
       "\n",
       "    .dataframe tbody tr th {\n",
       "        vertical-align: top;\n",
       "    }\n",
       "\n",
       "    .dataframe thead th {\n",
       "        text-align: right;\n",
       "    }\n",
       "</style>\n",
       "<table border=\"1\" class=\"dataframe\">\n",
       "  <thead>\n",
       "    <tr style=\"text-align: right;\">\n",
       "      <th></th>\n",
       "      <th>T00_06</th>\n",
       "      <th>T06_12</th>\n",
       "      <th>T12_18</th>\n",
       "      <th>T18_24</th>\n",
       "    </tr>\n",
       "  </thead>\n",
       "  <tbody>\n",
       "    <tr>\n",
       "      <th>今日</th>\n",
       "      <td>--%</td>\n",
       "      <td>20%</td>\n",
       "      <td>20%</td>\n",
       "      <td>20%</td>\n",
       "    </tr>\n",
       "  </tbody>\n",
       "</table>\n",
       "</div>"
      ],
      "text/plain": [
       "   T00_06 T06_12 T12_18 T18_24\n",
       "今日    --%    20%    20%    20%"
      ]
     },
     "metadata": {},
     "output_type": "display_data"
    },
    {
     "name": "stdout",
     "output_type": "stream",
     "text": [
      "--明日の降水確率--\n"
     ]
    },
    {
     "data": {
      "text/html": [
       "<div>\n",
       "<style scoped>\n",
       "    .dataframe tbody tr th:only-of-type {\n",
       "        vertical-align: middle;\n",
       "    }\n",
       "\n",
       "    .dataframe tbody tr th {\n",
       "        vertical-align: top;\n",
       "    }\n",
       "\n",
       "    .dataframe thead th {\n",
       "        text-align: right;\n",
       "    }\n",
       "</style>\n",
       "<table border=\"1\" class=\"dataframe\">\n",
       "  <thead>\n",
       "    <tr style=\"text-align: right;\">\n",
       "      <th></th>\n",
       "      <th>T00_06</th>\n",
       "      <th>T06_12</th>\n",
       "      <th>T12_18</th>\n",
       "      <th>T18_24</th>\n",
       "    </tr>\n",
       "  </thead>\n",
       "  <tbody>\n",
       "    <tr>\n",
       "      <th>明日</th>\n",
       "      <td>10%</td>\n",
       "      <td>20%</td>\n",
       "      <td>30%</td>\n",
       "      <td>50%</td>\n",
       "    </tr>\n",
       "  </tbody>\n",
       "</table>\n",
       "</div>"
      ],
      "text/plain": [
       "   T00_06 T06_12 T12_18 T18_24\n",
       "明日    10%    20%    30%    50%"
      ]
     },
     "metadata": {},
     "output_type": "display_data"
    },
    {
     "name": "stdout",
     "output_type": "stream",
     "text": [
      "--明後日の降水確率--\n"
     ]
    },
    {
     "data": {
      "text/html": [
       "<div>\n",
       "<style scoped>\n",
       "    .dataframe tbody tr th:only-of-type {\n",
       "        vertical-align: middle;\n",
       "    }\n",
       "\n",
       "    .dataframe tbody tr th {\n",
       "        vertical-align: top;\n",
       "    }\n",
       "\n",
       "    .dataframe thead th {\n",
       "        text-align: right;\n",
       "    }\n",
       "</style>\n",
       "<table border=\"1\" class=\"dataframe\">\n",
       "  <thead>\n",
       "    <tr style=\"text-align: right;\">\n",
       "      <th></th>\n",
       "      <th>T00_06</th>\n",
       "      <th>T06_12</th>\n",
       "      <th>T12_18</th>\n",
       "      <th>T18_24</th>\n",
       "    </tr>\n",
       "  </thead>\n",
       "  <tbody>\n",
       "    <tr>\n",
       "      <th>明後日</th>\n",
       "      <td>80%</td>\n",
       "      <td>80%</td>\n",
       "      <td>80%</td>\n",
       "      <td>80%</td>\n",
       "    </tr>\n",
       "  </tbody>\n",
       "</table>\n",
       "</div>"
      ],
      "text/plain": [
       "    T00_06 T06_12 T12_18 T18_24\n",
       "明後日    80%    80%    80%    80%"
      ]
     },
     "metadata": {},
     "output_type": "display_data"
    }
   ],
   "source": [
    "print(\"--今日の降水確率--\")\n",
    "display(df1)\n",
    "print(\"--明日の降水確率--\")\n",
    "display(df2)\n",
    "print(\"--明後日の降水確率--\")\n",
    "display(df3)"
   ]
  },
  {
   "cell_type": "code",
   "execution_count": 8,
   "metadata": {},
   "outputs": [
    {
     "data": {
      "text/html": [
       "<div>\n",
       "<style scoped>\n",
       "    .dataframe tbody tr th:only-of-type {\n",
       "        vertical-align: middle;\n",
       "    }\n",
       "\n",
       "    .dataframe tbody tr th {\n",
       "        vertical-align: top;\n",
       "    }\n",
       "\n",
       "    .dataframe thead th {\n",
       "        text-align: right;\n",
       "    }\n",
       "</style>\n",
       "<table border=\"1\" class=\"dataframe\">\n",
       "  <thead>\n",
       "    <tr style=\"text-align: right;\">\n",
       "      <th></th>\n",
       "      <th>T00_06</th>\n",
       "      <th>T06_12</th>\n",
       "      <th>T12_18</th>\n",
       "      <th>T18_24</th>\n",
       "    </tr>\n",
       "  </thead>\n",
       "  <tbody>\n",
       "    <tr>\n",
       "      <th>今日</th>\n",
       "      <td>--%</td>\n",
       "      <td>20%</td>\n",
       "      <td>20%</td>\n",
       "      <td>20%</td>\n",
       "    </tr>\n",
       "    <tr>\n",
       "      <th>明日</th>\n",
       "      <td>10%</td>\n",
       "      <td>20%</td>\n",
       "      <td>30%</td>\n",
       "      <td>50%</td>\n",
       "    </tr>\n",
       "    <tr>\n",
       "      <th>明後日</th>\n",
       "      <td>80%</td>\n",
       "      <td>80%</td>\n",
       "      <td>80%</td>\n",
       "      <td>80%</td>\n",
       "    </tr>\n",
       "  </tbody>\n",
       "</table>\n",
       "</div>"
      ],
      "text/plain": [
       "    T00_06 T06_12 T12_18 T18_24\n",
       "今日     --%    20%    20%    20%\n",
       "明日     10%    20%    30%    50%\n",
       "明後日    80%    80%    80%    80%"
      ]
     },
     "execution_count": 8,
     "metadata": {},
     "output_type": "execute_result"
    }
   ],
   "source": [
    "df = pd.concat([df1,df2,df3]) # 今日、明日、明後日の降水確率を結合して一覧にしてdfに代入\n",
    "df"
   ]
  },
  {
   "cell_type": "code",
   "execution_count": 9,
   "metadata": {},
   "outputs": [
    {
     "name": "stderr",
     "output_type": "stream",
     "text": [
      "2024-08-14 09:26:42.209 \n",
      "  \u001b[33m\u001b[1mWarning:\u001b[0m to view this Streamlit app on a browser, run it with the following\n",
      "  command:\n",
      "\n",
      "    streamlit run c:\\Users\\teppe\\AppData\\Local\\Programs\\Python\\Python312\\Lib\\site-packages\\ipykernel_launcher.py [ARGUMENTS]\n"
     ]
    }
   ],
   "source": [
    "test = st.empty()\n",
    "test.write(\"ここに書き込みたい事\")"
   ]
  },
  {
   "cell_type": "code",
   "execution_count": null,
   "metadata": {},
   "outputs": [],
   "source": []
  }
 ],
 "metadata": {
  "kernelspec": {
   "display_name": "Python 3",
   "language": "python",
   "name": "python3"
  },
  "language_info": {
   "codemirror_mode": {
    "name": "ipython",
    "version": 3
   },
   "file_extension": ".py",
   "mimetype": "text/x-python",
   "name": "python",
   "nbconvert_exporter": "python",
   "pygments_lexer": "ipython3",
   "version": "3.12.3"
  }
 },
 "nbformat": 4,
 "nbformat_minor": 2
}
